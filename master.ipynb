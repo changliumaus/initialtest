{
 "cells": [
  {
   "cell_type": "code",
   "execution_count": 1,
   "id": "49e3782a",
   "metadata": {},
   "outputs": [],
   "source": [
    "import pandas as pd"
   ]
  },
  {
   "cell_type": "code",
   "execution_count": 2,
   "id": "ae71fa79",
   "metadata": {},
   "outputs": [],
   "source": [
    "# branch twoone"
   ]
  },
  {
   "cell_type": "code",
   "execution_count": null,
   "id": "543575ea",
   "metadata": {},
   "outputs": [],
   "source": [
    "# branch one 2nd edit"
   ]
  }
 ],
 "metadata": {
  "kernelspec": {
   "display_name": "Python 3",
   "language": "python",
   "name": "python3"
  },
  "language_info": {
   "codemirror_mode": {
    "name": "ipython",
    "version": 3
   },
   "file_extension": ".py",
   "mimetype": "text/x-python",
   "name": "python",
   "nbconvert_exporter": "python",
   "pygments_lexer": "ipython3",
   "version": "3.9.12"
  }
 },
 "nbformat": 4,
 "nbformat_minor": 5
}
