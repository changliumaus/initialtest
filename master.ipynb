{
 "cells": [
  {
   "cell_type": "code",
   "execution_count": 1,
   "id": "b6020c56",
   "metadata": {},
   "outputs": [],
   "source": [
    "import pandas as pd"
   ]
  },
  {
   "cell_type": "code",
   "execution_count": 8,
   "id": "b7948bf4",
   "metadata": {},
   "outputs": [],
   "source": [
    "a = pd.DataFrame([[7,8,9], [10,11, 12]], columns=(\"one\", \"two\", \"three\"))"
   ]
  },
  {
   "cell_type": "code",
   "execution_count": null,
   "id": "c6f6d601",
   "metadata": {},
   "outputs": [],
   "source": [
    "# branch one 2nd edit"
   ]
  }
 ],
 "metadata": {
  "kernelspec": {
   "display_name": "Python 3",
   "language": "python",
   "name": "python3"
  },
  "language_info": {
   "codemirror_mode": {
    "name": "ipython",
    "version": 3
   },
   "file_extension": ".py",
   "mimetype": "text/x-python",
   "name": "python",
   "nbconvert_exporter": "python",
   "pygments_lexer": "ipython3",
   "version": "3.9.12"
  }
 },
 "nbformat": 4,
 "nbformat_minor": 5
}
